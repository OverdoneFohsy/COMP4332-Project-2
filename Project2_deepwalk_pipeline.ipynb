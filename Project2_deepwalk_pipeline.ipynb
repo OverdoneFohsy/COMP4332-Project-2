{
 "cells": [
  {
   "cell_type": "code",
   "execution_count": 2,
   "metadata": {},
   "outputs": [],
   "source": [
    "import networkx as nx\n",
    "import numpy as np\n",
    "import os\n",
    "import time\n",
    "import pandas as pd\n",
    "import matplotlib.pyplot as plt\n",
    "from itertools import chain\n",
    "from collections import defaultdict\n",
    "from gensim.models import Word2Vec\n",
    "from sklearn.model_selection import KFold\n",
    "from sklearn.metrics import roc_auc_score"
   ]
  },
  {
   "cell_type": "markdown",
   "metadata": {},
   "source": [
    "# Pipeline"
   ]
  },
  {
   "cell_type": "markdown",
   "metadata": {},
   "source": [
    "### Data Loader"
   ]
  },
  {
   "cell_type": "markdown",
   "metadata": {},
   "source": [
    "We need to load networks into memory. Usually networks are organized as pairs of nodes. And sometimes different edges have different weights. Hence, we use networkx.DiGraph to store such structure information and attributes."
   ]
  },
  {
   "cell_type": "code",
   "execution_count": 3,
   "metadata": {},
   "outputs": [],
   "source": [
    "def load_data(file_name):\n",
    "    \"\"\"\n",
    "    read edges from an edge file\n",
    "    \"\"\"\n",
    "    edges = list()\n",
    "    df = pd.read_csv(file_name)\n",
    "    for idx, row in df.iterrows():\n",
    "        user_id, friends = row[\"user_id\"], eval(row[\"friends\"])\n",
    "        for friend in friends:\n",
    "            # add each friend relation as an edge\n",
    "            edges.append((user_id, friend))\n",
    "    edges = sorted(edges)\n",
    "    \n",
    "    return edges\n",
    "\n",
    "def load_test_data(file_name):\n",
    "    \"\"\"\n",
    "    read edges from an edge file\n",
    "    \"\"\"\n",
    "    edges = list()\n",
    "    scores = list()\n",
    "    df = pd.read_csv(file_name)\n",
    "    for idx, row in df.iterrows():\n",
    "        edges.append((row[\"src\"], row[\"dst\"]))\n",
    "        scores.append(row[\"score\"])\n",
    "    #edges = sorted(edges)\n",
    "    \n",
    "    return edges,scores\n",
    "\n",
    "def generate_false_edges(true_edges, num_false_edges=5):\n",
    "    \"\"\"\n",
    "    generate false edges given true edges\n",
    "    \"\"\"\n",
    "    nodes = list(set(chain.from_iterable(true_edges)))\n",
    "    N = len(nodes)\n",
    "    true_edges = set(true_edges)\n",
    "    print(N, len(true_edges))\n",
    "    false_edges = set()\n",
    "    \n",
    "    while len(false_edges) < num_false_edges:\n",
    "        # randomly sample two different nodes and check whether the pair exisit or not\n",
    "        src, dst = nodes[int(np.random.rand() * N)], nodes[int(np.random.rand() * N)]\n",
    "        if src != dst and (src, dst) not in true_edges and (src, dst) not in false_edges:\n",
    "            false_edges.add((src, dst))\n",
    "    false_edges = sorted(false_edges)\n",
    "    \n",
    "    return false_edges\n",
    "\n",
    "def construct_graph_from_edges(edges):\n",
    "    \"\"\"\n",
    "    generate a directed graph object given true edges\n",
    "    DiGraph documentation: https://networkx.github.io/documentation/stable/reference/classes/digraph.html\n",
    "    \"\"\"\n",
    "    # convert a list of edges {(u, v)} to a list of edges with weights {(u, v, w)}\n",
    "    edge_weight = defaultdict(float)\n",
    "    for e in edges:\n",
    "        edge_weight[e] += 1.0\n",
    "    weighed_edge_list = list()\n",
    "    for e in sorted(edge_weight.keys()):\n",
    "        weighed_edge_list.append((e[0], e[1], edge_weight[e]))\n",
    "        \n",
    "    graph = nx.DiGraph()\n",
    "    graph.add_weighted_edges_from(weighed_edge_list)\n",
    "    \n",
    "    print(\"number of nodes:\", graph.number_of_nodes())\n",
    "    print(\"number of edges:\", graph.number_of_edges())\n",
    "    \n",
    "    return graph"
   ]
  },
  {
   "cell_type": "markdown",
   "metadata": {},
   "source": [
    "### Random Walk Generator"
   ]
  },
  {
   "cell_type": "markdown",
   "metadata": {},
   "source": [
    "Random walk generators or random walkers yield random walks that contain both local and higher-order neighborhood information. However, naive non-uniform sampling is very slow, which requires O(n) time complexity. Here alias sampling can reduce the time complexity to O(1) with O(n) space. If you are interested, please see the following blog."
   ]
  },
  {
   "cell_type": "code",
   "execution_count": 4,
   "metadata": {},
   "outputs": [],
   "source": [
    "def alias_setup(probs):\n",
    "    \"\"\"\n",
    "    compute utility lists for non-uniform sampling from discrete distributions.\n",
    "    details: https://lips.cs.princeton.edu/the-alias-method-efficient-sampling-with-many-discrete-outcomes/\n",
    "    \"\"\"\n",
    "    K = len(probs)\n",
    "    q = np.zeros(K)\n",
    "    J = np.zeros(K, dtype=int)\n",
    "\n",
    "    smaller = list()\n",
    "    larger = list()\n",
    "    for kk, prob in enumerate(probs):\n",
    "        q[kk] = K * prob\n",
    "        if q[kk] < 1.0:\n",
    "            smaller.append(kk)\n",
    "        else:\n",
    "            larger.append(kk)\n",
    "\n",
    "    while len(smaller) > 0 and len(larger) > 0:\n",
    "        small = smaller.pop()\n",
    "        large = larger.pop()\n",
    "\n",
    "        J[small] = large\n",
    "        q[large] = q[large] + q[small] - 1.0\n",
    "        if q[large] < 1.0:\n",
    "            smaller.append(large)\n",
    "        else:\n",
    "            larger.append(large)\n",
    "\n",
    "    return J, q\n",
    "\n",
    "def get_alias_node(graph, node):\n",
    "    \"\"\"\n",
    "    get the alias node setup lists for a given node.\n",
    "    \"\"\"\n",
    "    # get the unnormalized probabilities with the first-order information\n",
    "    unnormalized_probs = list()\n",
    "    for nbr in graph.neighbors(node):\n",
    "        unnormalized_probs.append(graph[node][nbr][\"weight\"])\n",
    "    unnormalized_probs = np.array(unnormalized_probs)\n",
    "    if len(unnormalized_probs) > 0:\n",
    "        normalized_probs = unnormalized_probs / unnormalized_probs.sum()\n",
    "    else:\n",
    "        normalized_probs = unnormalized_probs\n",
    "        \n",
    "    return alias_setup(normalized_probs)\n",
    "    \n",
    "def get_alias_edge(graph, src, dst, p=1, q=1):\n",
    "    \"\"\"\n",
    "    get the alias edge setup lists for a given edge.\n",
    "    \"\"\"\n",
    "    # get the unnormalized probabilities with the second-order information\n",
    "    unnormalized_probs = list()\n",
    "    for dst_nbr in graph.neighbors(dst):\n",
    "        if dst_nbr == src: # distance is 0\n",
    "            unnormalized_probs.append(graph[dst][dst_nbr][\"weight\"]/p)\n",
    "        elif graph.has_edge(dst_nbr, src): # distance is 1\n",
    "            unnormalized_probs.append(graph[dst][dst_nbr][\"weight\"])\n",
    "        else: # distance is 2\n",
    "            unnormalized_probs.append(graph[dst][dst_nbr][\"weight\"]/q)\n",
    "    unnormalized_probs = np.array(unnormalized_probs)\n",
    "    if len(unnormalized_probs) > 0:\n",
    "        normalized_probs = unnormalized_probs / unnormalized_probs.sum()\n",
    "    else:\n",
    "        normalized_probs = unnormalized_probs\n",
    "\n",
    "    return alias_setup(normalized_probs)\n",
    "\n",
    "def preprocess_transition_probs(graph, p=1, q=1):\n",
    "    \"\"\"\n",
    "    preprocess transition probabilities for guiding the random walks.\n",
    "    \"\"\"\n",
    "    alias_nodes = dict()\n",
    "    for node in graph.nodes():\n",
    "        alias_nodes[node] = get_alias_node(graph, node)\n",
    "\n",
    "    alias_edges = dict()\n",
    "    for edge in graph.edges():\n",
    "        alias_edges[edge] = get_alias_edge(graph, edge[0], edge[1], p=p, q=q)\n",
    "\n",
    "    return alias_nodes, alias_edges"
   ]
  },
  {
   "cell_type": "markdown",
   "metadata": {},
   "source": [
    "The difference between DeepWalk and node2vec is how to generate random walks. The former only consider the first-order information while the latter also involves the second-order information."
   ]
  },
  {
   "cell_type": "code",
   "execution_count": 5,
   "metadata": {},
   "outputs": [],
   "source": [
    "def alias_draw(J, q):\n",
    "    \"\"\"\n",
    "    draw sample from a non-uniform discrete distribution using alias sampling.\n",
    "    \"\"\"\n",
    "    K = len(J)\n",
    "\n",
    "    kk = int(np.floor(np.random.rand() * K))\n",
    "    if np.random.rand() < q[kk]:\n",
    "        return kk\n",
    "    else:\n",
    "        return J[kk]\n",
    "\n",
    "\n",
    "# helper function to generate the long random walk as desired\n",
    "def fallback(walk, fetch_last_num=1):\n",
    "    if len(walk) > fetch_last_num:\n",
    "        walk.pop()\n",
    "        fetched = []\n",
    "        for i in range(fetch_last_num):\n",
    "            fetched.append(walk[-1-i])\n",
    "        return walk, fetched\n",
    "    else:\n",
    "        return [], [None for _ in range(fetch_last_num)]\n",
    "\n",
    "def generate_first_order_random_walk(graph, alias_nodes, \n",
    "                                     walk_length=10, start_node=None, verbose=False, max_trails=10):\n",
    "    \"\"\"\n",
    "    simulate a random walk starting from start node and considering the first order information.\n",
    "    max_trials: set the max trials to be one for standard random walk. Larger max_trails will make the generated biased.\n",
    "    \"\"\"\n",
    "    if start_node == None:\n",
    "        start_node = np.random.choice(graph.nodes())\n",
    "    walk = [start_node]\n",
    "    cur = start_node\n",
    "    num_tried = 0\n",
    "    \n",
    "    ########## begin ##########\n",
    "    while len(walk) < walk_length:\n",
    "        cur_nbrs = list(graph.neighbors(cur))\n",
    "        if len(cur_nbrs) > 0: # if we can sample next nodes\n",
    "            # sample the next node based on alias_nodes\n",
    "            cur = cur_nbrs[alias_draw(*alias_nodes[cur])]\n",
    "            walk.append(cur)\n",
    "        else: # if we can't do that\n",
    "            num_tried += 1\n",
    "            if num_tried >= max_trails:\n",
    "                break\n",
    "\n",
    "            walk, fetched = fallback(walk, fetch_last_num=1)\n",
    "            cur = fetched[0]\n",
    "            if len(walk) == 0: # if falls back to the empty walk\n",
    "                start_node = np.random.choice(graph.nodes())\n",
    "                walk = [start_node]\n",
    "                cur = start_node\n",
    "    ########## end ##########\n",
    "\n",
    "    if verbose: \n",
    "        print(f'walk of lenght {len(walk)} generated with {num_tried} trails')\n",
    "    return walk\n",
    "    \n",
    "def generate_second_order_random_walk(graph, alias_nodes, alias_edges, \n",
    "                                      walk_length=10, start_node=None, verbose=False, max_trails=10):\n",
    "    \"\"\"\n",
    "    simulate a random walk starting from start node and considering the second order information.\n",
    "    \"\"\"\n",
    "    if start_node == None:\n",
    "        start_node = np.random.choice(graph.nodes())\n",
    "    walk = [start_node]\n",
    "    \n",
    "    prev = None\n",
    "    cur = start_node\n",
    "    num_tried = 0\n",
    "\n",
    "    ########## begin ##########\n",
    "    while len(walk) < walk_length:\n",
    "        cur_nbrs = list(graph.neighbors(cur))\n",
    "        if len(cur_nbrs) > 0:\n",
    "            if prev is None:\n",
    "                # sample the next node based on alias_nodes\n",
    "                prev, cur = cur, cur_nbrs[alias_draw(*alias_nodes[cur])]\n",
    "            else:\n",
    "                # sample the next node based on alias_edges\n",
    "                prev, cur = cur, cur_nbrs[alias_draw(*alias_edges[(prev, cur)])]\n",
    "            walk.append(cur)\n",
    "        else:\n",
    "            num_tried += 1\n",
    "            if num_tried >= max_trails:\n",
    "                break\n",
    "            walk, (cur, prev) = fallback(walk, fetch_last_num=2)\n",
    "            if len(walk) == 0:\n",
    "                start_node = np.random.choice(graph.nodes())\n",
    "                walk = [start_node]\n",
    "                cur = start_node\n",
    "                prev = None\n",
    "    ########## end ##########\n",
    "    if verbose: \n",
    "        print(f'walk of lenght {len(walk)} generated with {num_tried} trails')\n",
    "    return walk"
   ]
  },
  {
   "cell_type": "markdown",
   "metadata": {},
   "source": [
    "### Network Embedding Algorithms"
   ]
  },
  {
   "cell_type": "code",
   "execution_count": 6,
   "metadata": {},
   "outputs": [],
   "source": [
    "def build_deepwalk(graph, alias_nodes, node_dim=10, num_walks=10, walk_length=10):\n",
    "    \"\"\"\n",
    "    build a deepwalk model\n",
    "    \"\"\"\n",
    "    print(\"building a DeepWalk model...\", end=\"\\t\")\n",
    "    st = time.time()\n",
    "    np.random.seed(0)\n",
    "    nodes = list(graph.nodes())\n",
    "    walks = list()\n",
    "    # generate random walks\n",
    "    for walk_iter in range(num_walks):\n",
    "        np.random.shuffle(nodes)\n",
    "        for node in nodes:\n",
    "            walks.append(generate_first_order_random_walk(\n",
    "                graph, alias_nodes, walk_length=walk_length, start_node=node))\n",
    "        \n",
    "    walk_lens = [len(w) for w in walks]\n",
    "    if len(walk_lens) > 0:\n",
    "        avg_walk_len = sum(walk_lens) / len(walk_lens)\n",
    "    else:\n",
    "        avg_walk_len = 0.0\n",
    "    print(\"number of walks: %d\\taverage walk length: %.4f\" % (len(walks), avg_walk_len), end=\"\\t\")\n",
    "    \n",
    "    # train a skip-gram model for these walks\n",
    "    model = Word2Vec(walks, vector_size=node_dim, window=3, min_count=0, sg=1, workers=os.cpu_count(), epochs=10)\n",
    "    print(\"training time: %.4f\" % (time.time()-st))\n",
    "    \n",
    "    return model\n",
    "\n",
    "def build_node2vec(graph, alias_nodes, alias_edges, node_dim=10, num_walks=10, walk_length=10):\n",
    "    \"\"\"\n",
    "    build a node2vec model\n",
    "    \"\"\"\n",
    "    print(\"building a node2vec model...\", end=\"\\t\")\n",
    "    st = time.time()\n",
    "    np.random.seed(0)\n",
    "    nodes = list(graph.nodes())\n",
    "    walks = list()\n",
    "    # generate random walks\n",
    "    for walk_iter in range(num_walks):\n",
    "        np.random.shuffle(nodes)\n",
    "        for node in nodes:\n",
    "            walks.append(generate_second_order_random_walk(\n",
    "                graph, alias_nodes, alias_edges, walk_length=walk_length, start_node=node))\n",
    "            \n",
    "    walk_lens = [len(w) for w in walks]\n",
    "    if len(walk_lens) > 0:\n",
    "        avg_walk_len = sum(walk_lens) / len(walk_lens)\n",
    "    else:\n",
    "        avg_walk_len = 0.0    \n",
    "    print(\"number of walks: %d\\taverage walk length: %.4f\" % (len(walks), avg_walk_len), end=\"\\t\")\n",
    "    \n",
    "    # train a skip-gram model for these walks\n",
    "    model = Word2Vec(walks, vector_size=node_dim, window=3, min_count=0, sg=1, workers=os.cpu_count(), epochs=10)\n",
    "    print(\"training time: %.4f\" % (time.time()-st))\n",
    "    \n",
    "    return model"
   ]
  },
  {
   "cell_type": "markdown",
   "metadata": {},
   "source": [
    "### Scorer"
   ]
  },
  {
   "cell_type": "code",
   "execution_count": 7,
   "metadata": {},
   "outputs": [],
   "source": [
    "def get_cosine_sim(model, u, v):\n",
    "    \"\"\"\n",
    "    get the cosine similarity between two nodes\n",
    "    \"\"\"\n",
    "    try:\n",
    "        u = model.wv[u]\n",
    "        v = model.wv[v]\n",
    "        return np.dot(u, v) / (np.linalg.norm(u) * np.linalg.norm(v))\n",
    "    except:\n",
    "        return 0.5\n",
    "\n",
    "def get_auc_score(model, true_edges, false_edges):\n",
    "    \"\"\"\n",
    "    get the auc score\n",
    "    \"\"\"\n",
    "    y_true = [1] * len(true_edges) + [0] * len(false_edges)\n",
    "    \n",
    "    y_score = list()\n",
    "    for e in true_edges:\n",
    "        y_score.append(get_cosine_sim(model, e[0], e[1]))\n",
    "    for e in false_edges:\n",
    "        y_score.append(get_cosine_sim(model, e[0], e[1]))\n",
    "    \n",
    "    return roc_auc_score(y_true, y_score)\n",
    "\n",
    "def get_auc_score_test(model, edges,scores):\n",
    "    \"\"\"\n",
    "    get the auc score\n",
    "    \"\"\"\n",
    "    y_true = scores\n",
    "    \n",
    "    y_score = list()\n",
    "    for e in edges:\n",
    "        y_score.append(get_cosine_sim(model, e[0], e[1]))\n",
    "    \n",
    "    return roc_auc_score(y_true, y_score)\n",
    "\n",
    "\n",
    "def write_pred(file_name, edges, scores):\n",
    "    df = pd.DataFrame()\n",
    "    df[\"src\"] = [e[0] for e in edges]\n",
    "    df[\"dst\"] = [e[1] for e in edges]\n",
    "    df[\"score\"] = scores\n",
    "    df.to_csv(file_name, index=False)\n",
    "    \n",
    "    \n",
    "\n",
    "\n",
    "\n",
    "def write_valid_ans(file_name, edges, scores):\n",
    "    df = pd.DataFrame()\n",
    "    df[\"src\"] = [e[0] for e in edges]\n",
    "    df[\"dst\"] = [e[1] for e in edges]\n",
    "    df[\"score\"] = scores\n",
    "    df.to_csv(file_name, index=False)"
   ]
  },
  {
   "cell_type": "markdown",
   "metadata": {},
   "source": [
    "### Try them over a Real-life Network"
   ]
  },
  {
   "cell_type": "markdown",
   "metadata": {},
   "source": [
    "Firstly, we need to load edges into memory and use the networkx.DiGraph structure to store the graph."
   ]
  },
  {
   "cell_type": "code",
   "execution_count": 8,
   "metadata": {},
   "outputs": [
    {
     "name": "stdout",
     "output_type": "stream",
     "text": [
      "number of nodes: 8334\n",
      "number of edges: 100000\n",
      "8485 119267\n"
     ]
    }
   ],
   "source": [
    "train_file = \"data/train.csv\"\n",
    "valid_file = \"data/valid.csv\"\n",
    "test_file = \"data/test.csv\"\n",
    "\n",
    "np.random.seed(2023)\n",
    "train_edges = load_data(train_file)\n",
    "graph = construct_graph_from_edges(train_edges)\n",
    "valid_edges = load_data(valid_file)\n",
    "false_edges = generate_false_edges(train_edges+valid_edges, 40000-len(valid_edges))\n",
    "test_edges,test_scores = load_test_data(test_file)"
   ]
  },
  {
   "cell_type": "markdown",
   "metadata": {},
   "source": [
    "After that, we can use preprocess transition probabilities with the help of alias sampling."
   ]
  },
  {
   "cell_type": "code",
   "execution_count": 9,
   "metadata": {},
   "outputs": [],
   "source": [
    "alias_nodes, alias_edges = preprocess_transition_probs(graph, p=1, q=1)"
   ]
  },
  {
   "cell_type": "markdown",
   "metadata": {},
   "source": [
    "We can use random walk generators to generate random walks."
   ]
  },
  {
   "cell_type": "markdown",
   "metadata": {},
   "source": [
    "Let's try to generate a first-order random walk and a second-order random walk."
   ]
  },
  {
   "cell_type": "code",
   "execution_count": 10,
   "metadata": {},
   "outputs": [
    {
     "data": {
      "text/plain": [
       "['N6ZTMIue-2b30CJv2tyPGg',\n",
       " 'RBZ_kMjowV0t6_nv2UKaDQ',\n",
       " 'sTcYq6goD1Fa2WS9MSkSvQ',\n",
       " 'NsegE9Mqm3GCQeSx0v0tYw',\n",
       " 'DwIetk5y9m6AypCjPux6RQ',\n",
       " '41HLwXnR0Lm3NUp01cIOQg',\n",
       " '3xORNxbKdd08LUf0tclx3A',\n",
       " 'EXKDLuYoZUKUNNNYA7TlGQ',\n",
       " 'SwRaplcQ-UwlVvkLjU62tQ',\n",
       " 'oAvWyhbfIVNokdjlGZpVWw']"
      ]
     },
     "execution_count": 10,
     "metadata": {},
     "output_type": "execute_result"
    }
   ],
   "source": [
    "generate_first_order_random_walk(graph, alias_nodes=alias_nodes,\n",
    "                                 start_node=\"N6ZTMIue-2b30CJv2tyPGg\", walk_length=10)"
   ]
  },
  {
   "cell_type": "code",
   "execution_count": 23,
   "metadata": {},
   "outputs": [
    {
     "data": {
      "text/plain": [
       "['N6ZTMIue-2b30CJv2tyPGg',\n",
       " 'RBZ_kMjowV0t6_nv2UKaDQ',\n",
       " 'KQMzfaaI9jfo68S4CsCifA',\n",
       " '92e_B3VDY5TqxVYsKuNzKg',\n",
       " 'SCPgLdL2hoeP3Plnc0dkzg',\n",
       " '25W8CVIdQDIkyPb8ISCGpQ',\n",
       " '9SiMC8YFsAZi1kZ-cyxG6w',\n",
       " 'XEHZoTDWjw3w-gcQyYIe4g',\n",
       " 'hVRpLwPfgRaU6sllAHpnAw',\n",
       " 'KGsXnYHvYddGaL_jyl0DMQ']"
      ]
     },
     "execution_count": 23,
     "metadata": {},
     "output_type": "execute_result"
    }
   ],
   "source": [
    "generate_second_order_random_walk(graph, alias_nodes=alias_nodes, alias_edges=alias_edges,\n",
    "                                  start_node=\"N6ZTMIue-2b30CJv2tyPGg\", walk_length=10)"
   ]
  },
  {
   "cell_type": "markdown",
   "metadata": {},
   "source": [
    "And we can build a DeepWalk model and a node2vec model. Here we set p=q=0.5 so that the walker will not go very far away from the start node."
   ]
  },
  {
   "cell_type": "code",
   "execution_count": 12,
   "metadata": {},
   "outputs": [
    {
     "name": "stdout",
     "output_type": "stream",
     "text": [
      "building a DeepWalk model...\tnumber of walks: 83340\taverage walk length: 9.9029\ttraining time: 7.9313\n"
     ]
    }
   ],
   "source": [
    "model = build_deepwalk(graph, alias_nodes, node_dim=10, num_walks=10, walk_length=10)"
   ]
  },
  {
   "cell_type": "code",
   "execution_count": 13,
   "metadata": {},
   "outputs": [
    {
     "name": "stdout",
     "output_type": "stream",
     "text": [
      "building a node2vec model...\tnumber of walks: 83340\taverage walk length: 9.9900\ttraining time: 9.7020\n"
     ]
    }
   ],
   "source": [
    "model = build_node2vec(graph, alias_nodes, alias_edges, node_dim=10, num_walks=10, walk_length=10)"
   ]
  },
  {
   "cell_type": "markdown",
   "metadata": {},
   "source": [
    "Let's see the node embeddings of three nodes, and cosine similarities of two edges."
   ]
  },
  {
   "cell_type": "code",
   "execution_count": 14,
   "metadata": {},
   "outputs": [
    {
     "name": "stdout",
     "output_type": "stream",
     "text": [
      "node embedding (\"N6ZTMIue-2b30CJv2tyPGg\"): [ 1.3558898   1.429       0.87522423  0.65688086  1.0438992   0.20356183\n",
      "  0.9006455   1.9649043  -0.9081707  -0.2372845 ]\n",
      "node embedding (\"N7E-CfqdME28dakWdEKNvw\"): [ 1.1230075   0.58999515  1.11769     0.56367844  1.0179788   0.19616398\n",
      "  1.3182434   0.6582664  -0.16207466 -0.7344504 ]\n",
      "node embedding (\"MmlJSLDg-IFaeXb5wdJbgg\"): [ 2.207226   -1.3286611  -0.00813614 -2.140529   -0.24794692 -0.16488022\n",
      "  2.3975422   0.35069934 -1.0553612  -0.46189976]\n",
      "true edge (\"N6ZTMIue-2b30CJv2tyPGg\", \"N7E-CfqdME28dakWdEKNvw\"): 0.84040225\n",
      "false edge (\"N6ZTMIue-2b30CJv2tyPGg\", \"MmlJSLDg-IFaeXb5wdJbgg\"): 0.22400977\n"
     ]
    }
   ],
   "source": [
    "print(\"node embedding (\\\"N6ZTMIue-2b30CJv2tyPGg\\\"):\",\n",
    "      model.wv[\"N6ZTMIue-2b30CJv2tyPGg\"])\n",
    "print(\"node embedding (\\\"N7E-CfqdME28dakWdEKNvw\\\"):\",\n",
    "      model.wv[\"N7E-CfqdME28dakWdEKNvw\"])\n",
    "print(\"node embedding (\\\"MmlJSLDg-IFaeXb5wdJbgg\\\"):\",\n",
    "      model.wv.vectors[model.wv.index_to_key.index(\"MmlJSLDg-IFaeXb5wdJbgg\")])\n",
    "print(\"true edge (\\\"N6ZTMIue-2b30CJv2tyPGg\\\", \\\"N7E-CfqdME28dakWdEKNvw\\\"):\",\n",
    "      get_cosine_sim(model, \"N6ZTMIue-2b30CJv2tyPGg\", \"N7E-CfqdME28dakWdEKNvw\"))\n",
    "print(\"false edge (\\\"N6ZTMIue-2b30CJv2tyPGg\\\", \\\"MmlJSLDg-IFaeXb5wdJbgg\\\"):\",\n",
    "      get_cosine_sim(model, \"N6ZTMIue-2b30CJv2tyPGg\", \"MmlJSLDg-IFaeXb5wdJbgg\"))"
   ]
  },
  {
   "cell_type": "markdown",
   "metadata": {},
   "source": [
    "# Link Prediction"
   ]
  },
  {
   "cell_type": "markdown",
   "metadata": {},
   "source": [
    "We can train the model with different parameters and test the model on the validation set. Please show your parameter search process and analysis in your code, and visualization tools (Heatmap, etc.) are recommended to make your analysis clear."
   ]
  },
  {
   "cell_type": "markdown",
   "metadata": {},
   "source": [
    "Example of using Heatmap to viualize the result."
   ]
  },
  {
   "cell_type": "code",
   "execution_count": 94,
   "metadata": {},
   "outputs": [
    {
     "name": "stdout",
     "output_type": "stream",
     "text": [
      "node dim: 5,\tnum_walks: 5,\twalk_length: 5\tbuilding a DeepWalk model...\tnumber of walks: 41670\taverage walk length: 4.9660\ttraining time: 3.3269\n",
      "valid auc: 0.8780\n",
      "node dim: 5,\tnum_walks: 5,\twalk_length: 10\tbuilding a DeepWalk model...\tnumber of walks: 41670\taverage walk length: 9.9018\ttraining time: 4.1159\n",
      "valid auc: 0.9019\n",
      "node dim: 5,\tnum_walks: 5,\twalk_length: 15\tbuilding a DeepWalk model...\tnumber of walks: 41670\taverage walk length: 14.8370\ttraining time: 4.9791\n",
      "valid auc: 0.9153\n",
      "node dim: 5,\tnum_walks: 5,\twalk_length: 20\tbuilding a DeepWalk model...\tnumber of walks: 41670\taverage walk length: 19.7629\ttraining time: 5.6391\n",
      "valid auc: 0.9147\n",
      "node dim: 5,\tnum_walks: 5,\twalk_length: 25\tbuilding a DeepWalk model...\tnumber of walks: 41670\taverage walk length: 24.6848\ttraining time: 6.5493\n",
      "valid auc: 0.9113\n",
      "node dim: 5,\tnum_walks: 5,\twalk_length: 30\tbuilding a DeepWalk model...\tnumber of walks: 41670\taverage walk length: 29.5952\ttraining time: 7.8518\n",
      "valid auc: 0.9145\n",
      "node dim: 5,\tnum_walks: 10,\twalk_length: 5\tbuilding a DeepWalk model...\tnumber of walks: 83340\taverage walk length: 4.9654\ttraining time: 6.4715\n",
      "valid auc: 0.9053\n",
      "node dim: 5,\tnum_walks: 10,\twalk_length: 10\tbuilding a DeepWalk model...\tnumber of walks: 83340\taverage walk length: 9.9029\ttraining time: 7.9953\n",
      "valid auc: 0.9140\n",
      "node dim: 5,\tnum_walks: 10,\twalk_length: 15\tbuilding a DeepWalk model...\tnumber of walks: 83340\taverage walk length: 14.8359\ttraining time: 9.6602\n",
      "valid auc: 0.9176\n",
      "node dim: 5,\tnum_walks: 10,\twalk_length: 20\tbuilding a DeepWalk model...\tnumber of walks: 83340\taverage walk length: 19.7629\ttraining time: 11.4264\n",
      "valid auc: 0.9184\n",
      "node dim: 5,\tnum_walks: 10,\twalk_length: 25\tbuilding a DeepWalk model...\tnumber of walks: 83340\taverage walk length: 24.6865\ttraining time: 12.7954\n",
      "valid auc: 0.9137\n",
      "node dim: 5,\tnum_walks: 10,\twalk_length: 30\tbuilding a DeepWalk model...\tnumber of walks: 83340\taverage walk length: 29.6022\ttraining time: 14.5462\n",
      "valid auc: 0.9163\n",
      "node dim: 5,\tnum_walks: 15,\twalk_length: 5\tbuilding a DeepWalk model...\tnumber of walks: 125010\taverage walk length: 4.9653\ttraining time: 9.8016\n",
      "valid auc: 0.9079\n",
      "node dim: 5,\tnum_walks: 15,\twalk_length: 10\tbuilding a DeepWalk model...\tnumber of walks: 125010\taverage walk length: 9.9026\ttraining time: 12.0670\n",
      "valid auc: 0.9173\n",
      "node dim: 5,\tnum_walks: 15,\twalk_length: 15\tbuilding a DeepWalk model...\tnumber of walks: 125010\taverage walk length: 14.8360\ttraining time: 14.3984\n",
      "valid auc: 0.9159\n",
      "node dim: 5,\tnum_walks: 15,\twalk_length: 20\tbuilding a DeepWalk model...\tnumber of walks: 125010\taverage walk length: 19.7636\ttraining time: 17.2103\n",
      "valid auc: 0.9140\n",
      "node dim: 5,\tnum_walks: 15,\twalk_length: 25\tbuilding a DeepWalk model...\tnumber of walks: 125010\taverage walk length: 24.6873\ttraining time: 19.4434\n",
      "valid auc: 0.9145\n",
      "node dim: 5,\tnum_walks: 15,\twalk_length: 30\tbuilding a DeepWalk model...\tnumber of walks: 125010\taverage walk length: 29.6029\ttraining time: 22.2158\n",
      "valid auc: 0.9165\n",
      "node dim: 5,\tnum_walks: 20,\twalk_length: 5\tbuilding a DeepWalk model...\tnumber of walks: 166680\taverage walk length: 4.9654\ttraining time: 12.9255\n",
      "valid auc: 0.9088\n",
      "node dim: 5,\tnum_walks: 20,\twalk_length: 10\tbuilding a DeepWalk model...\tnumber of walks: 166680\taverage walk length: 9.9036\ttraining time: 16.0030\n",
      "valid auc: 0.9149\n",
      "node dim: 5,\tnum_walks: 20,\twalk_length: 15\tbuilding a DeepWalk model...\tnumber of walks: 166680\taverage walk length: 14.8371\ttraining time: 19.4208\n",
      "valid auc: 0.9165\n",
      "node dim: 5,\tnum_walks: 20,\twalk_length: 20\tbuilding a DeepWalk model...\tnumber of walks: 166680\taverage walk length: 19.7638\ttraining time: 22.4837\n",
      "valid auc: 0.9091\n",
      "node dim: 5,\tnum_walks: 20,\twalk_length: 25\tbuilding a DeepWalk model...\tnumber of walks: 166680\taverage walk length: 24.6873\ttraining time: 25.8231\n",
      "valid auc: 0.9133\n",
      "node dim: 5,\tnum_walks: 20,\twalk_length: 30\tbuilding a DeepWalk model...\tnumber of walks: 166680\taverage walk length: 29.6016\ttraining time: 29.9568\n",
      "valid auc: 0.9127\n",
      "node dim: 5,\tnum_walks: 25,\twalk_length: 5\tbuilding a DeepWalk model...\tnumber of walks: 208350\taverage walk length: 4.9654\ttraining time: 16.2134\n",
      "valid auc: 0.9076\n",
      "node dim: 5,\tnum_walks: 25,\twalk_length: 10\tbuilding a DeepWalk model...\tnumber of walks: 208350\taverage walk length: 9.9035\ttraining time: 20.3228\n",
      "valid auc: 0.9150\n",
      "node dim: 5,\tnum_walks: 25,\twalk_length: 15\tbuilding a DeepWalk model...\tnumber of walks: 208350\taverage walk length: 14.8359\ttraining time: 24.4721\n",
      "valid auc: 0.9166\n",
      "node dim: 5,\tnum_walks: 25,\twalk_length: 20\tbuilding a DeepWalk model...\tnumber of walks: 208350\taverage walk length: 19.7647\ttraining time: 28.0586\n",
      "valid auc: 0.9157\n",
      "node dim: 5,\tnum_walks: 25,\twalk_length: 25\tbuilding a DeepWalk model...\tnumber of walks: 208350\taverage walk length: 24.6867\ttraining time: 32.3007\n",
      "valid auc: 0.9113\n",
      "node dim: 5,\tnum_walks: 25,\twalk_length: 30\tbuilding a DeepWalk model...\tnumber of walks: 208350\taverage walk length: 29.6028\ttraining time: 36.4822\n",
      "valid auc: 0.9145\n",
      "node dim: 5,\tnum_walks: 30,\twalk_length: 5\tbuilding a DeepWalk model...\tnumber of walks: 250020\taverage walk length: 4.9654\ttraining time: 19.4424\n",
      "valid auc: 0.9017\n",
      "node dim: 5,\tnum_walks: 30,\twalk_length: 10\tbuilding a DeepWalk model...\tnumber of walks: 250020\taverage walk length: 9.9037\ttraining time: 24.0064\n",
      "valid auc: 0.9170\n",
      "node dim: 5,\tnum_walks: 30,\twalk_length: 15\tbuilding a DeepWalk model...\tnumber of walks: 250020\taverage walk length: 14.8357\ttraining time: 28.6820\n",
      "valid auc: 0.9151\n",
      "node dim: 5,\tnum_walks: 30,\twalk_length: 20\tbuilding a DeepWalk model...\tnumber of walks: 250020\taverage walk length: 19.7644\ttraining time: 33.7119\n",
      "valid auc: 0.9147\n",
      "node dim: 5,\tnum_walks: 30,\twalk_length: 25\tbuilding a DeepWalk model...\tnumber of walks: 250020\taverage walk length: 24.6855\ttraining time: 38.8594\n",
      "valid auc: 0.9138\n",
      "node dim: 5,\tnum_walks: 30,\twalk_length: 30\tbuilding a DeepWalk model...\tnumber of walks: 250020\taverage walk length: 29.6039\ttraining time: 44.3328\n",
      "valid auc: 0.9148\n",
      "node dim: 10,\tnum_walks: 5,\twalk_length: 5\tbuilding a DeepWalk model...\tnumber of walks: 41670\taverage walk length: 4.9660\ttraining time: 3.3299\n",
      "valid auc: 0.8649\n",
      "node dim: 10,\tnum_walks: 5,\twalk_length: 10\tbuilding a DeepWalk model...\tnumber of walks: 41670\taverage walk length: 9.9018\ttraining time: 4.1251\n",
      "valid auc: 0.9105\n",
      "node dim: 10,\tnum_walks: 5,\twalk_length: 15\tbuilding a DeepWalk model...\tnumber of walks: 41670\taverage walk length: 14.8370\ttraining time: 5.0127\n",
      "valid auc: 0.9234\n",
      "node dim: 10,\tnum_walks: 5,\twalk_length: 20\tbuilding a DeepWalk model...\tnumber of walks: 41670\taverage walk length: 19.7629\ttraining time: 5.7803\n",
      "valid auc: 0.9255\n",
      "node dim: 10,\tnum_walks: 5,\twalk_length: 25\tbuilding a DeepWalk model...\tnumber of walks: 41670\taverage walk length: 24.6848\ttraining time: 6.5708\n",
      "valid auc: 0.9269\n",
      "node dim: 10,\tnum_walks: 5,\twalk_length: 30\tbuilding a DeepWalk model...\tnumber of walks: 41670\taverage walk length: 29.5952\ttraining time: 7.4260\n",
      "valid auc: 0.9281\n",
      "node dim: 10,\tnum_walks: 10,\twalk_length: 5\tbuilding a DeepWalk model...\tnumber of walks: 83340\taverage walk length: 4.9654\ttraining time: 6.5993\n",
      "valid auc: 0.9064\n",
      "node dim: 10,\tnum_walks: 10,\twalk_length: 10\tbuilding a DeepWalk model...\tnumber of walks: 83340\taverage walk length: 9.9029\ttraining time: 8.1935\n",
      "valid auc: 0.9261\n",
      "node dim: 10,\tnum_walks: 10,\twalk_length: 15\tbuilding a DeepWalk model...\tnumber of walks: 83340\taverage walk length: 14.8359\ttraining time: 9.6850\n",
      "valid auc: 0.9306\n",
      "node dim: 10,\tnum_walks: 10,\twalk_length: 20\tbuilding a DeepWalk model...\tnumber of walks: 83340\taverage walk length: 19.7629\ttraining time: 11.4466\n",
      "valid auc: 0.9305\n",
      "node dim: 10,\tnum_walks: 10,\twalk_length: 25\tbuilding a DeepWalk model...\tnumber of walks: 83340\taverage walk length: 24.6865\ttraining time: 12.9497\n",
      "valid auc: 0.9298\n",
      "node dim: 10,\tnum_walks: 10,\twalk_length: 30\tbuilding a DeepWalk model...\tnumber of walks: 83340\taverage walk length: 29.6022\ttraining time: 14.8170\n",
      "valid auc: 0.9300\n",
      "node dim: 10,\tnum_walks: 15,\twalk_length: 5\tbuilding a DeepWalk model...\tnumber of walks: 125010\taverage walk length: 4.9653\ttraining time: 9.7728\n",
      "valid auc: 0.9164\n",
      "node dim: 10,\tnum_walks: 15,\twalk_length: 10\tbuilding a DeepWalk model...\tnumber of walks: 125010\taverage walk length: 9.9026\ttraining time: 12.1131\n",
      "valid auc: 0.9296\n",
      "node dim: 10,\tnum_walks: 15,\twalk_length: 15\tbuilding a DeepWalk model...\tnumber of walks: 125010\taverage walk length: 14.8360\ttraining time: 14.5026\n",
      "valid auc: 0.9315\n",
      "node dim: 10,\tnum_walks: 15,\twalk_length: 20\tbuilding a DeepWalk model...\tnumber of walks: 125010\taverage walk length: 19.7636\ttraining time: 17.0201\n",
      "valid auc: 0.9319\n",
      "node dim: 10,\tnum_walks: 15,\twalk_length: 25\tbuilding a DeepWalk model...\tnumber of walks: 125010\taverage walk length: 24.6873\ttraining time: 19.4850\n",
      "valid auc: 0.9290\n",
      "node dim: 10,\tnum_walks: 15,\twalk_length: 30\tbuilding a DeepWalk model...\tnumber of walks: 125010\taverage walk length: 29.6029\ttraining time: 22.0959\n",
      "valid auc: 0.9292\n",
      "node dim: 10,\tnum_walks: 20,\twalk_length: 5\tbuilding a DeepWalk model...\tnumber of walks: 166680\taverage walk length: 4.9654\ttraining time: 12.9501\n",
      "valid auc: 0.9220\n",
      "node dim: 10,\tnum_walks: 20,\twalk_length: 10\tbuilding a DeepWalk model...\tnumber of walks: 166680\taverage walk length: 9.9036\ttraining time: 16.2772\n",
      "valid auc: 0.9304\n",
      "node dim: 10,\tnum_walks: 20,\twalk_length: 15\tbuilding a DeepWalk model...\tnumber of walks: 166680\taverage walk length: 14.8371\ttraining time: 19.5995\n",
      "valid auc: 0.9314\n",
      "node dim: 10,\tnum_walks: 20,\twalk_length: 20\tbuilding a DeepWalk model...\tnumber of walks: 166680\taverage walk length: 19.7638\ttraining time: 22.5972\n",
      "valid auc: 0.9308\n",
      "node dim: 10,\tnum_walks: 20,\twalk_length: 25\tbuilding a DeepWalk model...\tnumber of walks: 166680\taverage walk length: 24.6873\ttraining time: 26.5054\n",
      "valid auc: 0.9289\n",
      "node dim: 10,\tnum_walks: 20,\twalk_length: 30\tbuilding a DeepWalk model...\tnumber of walks: 166680\taverage walk length: 29.6016\ttraining time: 29.1265\n",
      "valid auc: 0.9289\n",
      "node dim: 10,\tnum_walks: 25,\twalk_length: 5\tbuilding a DeepWalk model...\tnumber of walks: 208350\taverage walk length: 4.9654\ttraining time: 16.2834\n",
      "valid auc: 0.9239\n",
      "node dim: 10,\tnum_walks: 25,\twalk_length: 10\tbuilding a DeepWalk model...\tnumber of walks: 208350\taverage walk length: 9.9035\ttraining time: 20.1452\n",
      "valid auc: 0.9309\n",
      "node dim: 10,\tnum_walks: 25,\twalk_length: 15\tbuilding a DeepWalk model...\tnumber of walks: 208350\taverage walk length: 14.8359\ttraining time: 24.1864\n",
      "valid auc: 0.9315\n",
      "node dim: 10,\tnum_walks: 25,\twalk_length: 20\tbuilding a DeepWalk model...\tnumber of walks: 208350\taverage walk length: 19.7647\ttraining time: 28.2609\n",
      "valid auc: 0.9301\n",
      "node dim: 10,\tnum_walks: 25,\twalk_length: 25\tbuilding a DeepWalk model...\tnumber of walks: 208350\taverage walk length: 24.6867\ttraining time: 32.2947\n",
      "valid auc: 0.9285\n",
      "node dim: 10,\tnum_walks: 25,\twalk_length: 30\tbuilding a DeepWalk model...\tnumber of walks: 208350\taverage walk length: 29.6028\ttraining time: 36.5822\n",
      "valid auc: 0.9273\n",
      "node dim: 10,\tnum_walks: 30,\twalk_length: 5\tbuilding a DeepWalk model...\tnumber of walks: 250020\taverage walk length: 4.9654\ttraining time: 19.5190\n",
      "valid auc: 0.9255\n",
      "node dim: 10,\tnum_walks: 30,\twalk_length: 10\tbuilding a DeepWalk model...\tnumber of walks: 250020\taverage walk length: 9.9037\ttraining time: 24.0786\n",
      "valid auc: 0.9312\n",
      "node dim: 10,\tnum_walks: 30,\twalk_length: 15\tbuilding a DeepWalk model...\tnumber of walks: 250020\taverage walk length: 14.8357\ttraining time: 29.1497\n",
      "valid auc: 0.9297\n",
      "node dim: 10,\tnum_walks: 30,\twalk_length: 20\tbuilding a DeepWalk model...\tnumber of walks: 250020\taverage walk length: 19.7644\ttraining time: 33.9453\n",
      "valid auc: 0.9285\n",
      "node dim: 10,\tnum_walks: 30,\twalk_length: 25\tbuilding a DeepWalk model...\tnumber of walks: 250020\taverage walk length: 24.6855\ttraining time: 38.6415\n",
      "valid auc: 0.9278\n",
      "node dim: 10,\tnum_walks: 30,\twalk_length: 30\tbuilding a DeepWalk model...\tnumber of walks: 250020\taverage walk length: 29.6039\ttraining time: 43.7858\n",
      "valid auc: 0.9270\n",
      "node dim: 15,\tnum_walks: 5,\twalk_length: 5\tbuilding a DeepWalk model...\tnumber of walks: 41670\taverage walk length: 4.9660\ttraining time: 3.3885\n",
      "valid auc: 0.8402\n",
      "node dim: 15,\tnum_walks: 5,\twalk_length: 10\tbuilding a DeepWalk model...\tnumber of walks: 41670\taverage walk length: 9.9018\ttraining time: 4.3055\n",
      "valid auc: 0.8943\n",
      "node dim: 15,\tnum_walks: 5,\twalk_length: 15\tbuilding a DeepWalk model...\tnumber of walks: 41670\taverage walk length: 14.8370\ttraining time: 5.1289\n",
      "valid auc: 0.9109\n",
      "node dim: 15,\tnum_walks: 5,\twalk_length: 20\tbuilding a DeepWalk model...\tnumber of walks: 41670\taverage walk length: 19.7629\ttraining time: 6.1585\n",
      "valid auc: 0.9199\n",
      "node dim: 15,\tnum_walks: 5,\twalk_length: 25\tbuilding a DeepWalk model...\tnumber of walks: 41670\taverage walk length: 24.6848\ttraining time: 6.9623\n",
      "valid auc: 0.9221\n",
      "node dim: 15,\tnum_walks: 5,\twalk_length: 30\tbuilding a DeepWalk model...\tnumber of walks: 41670\taverage walk length: 29.5952\ttraining time: 7.7876\n",
      "valid auc: 0.9240\n",
      "node dim: 15,\tnum_walks: 10,\twalk_length: 5\tbuilding a DeepWalk model...\tnumber of walks: 83340\taverage walk length: 4.9654\ttraining time: 6.6868\n",
      "valid auc: 0.8884\n",
      "node dim: 15,\tnum_walks: 10,\twalk_length: 10\tbuilding a DeepWalk model...\tnumber of walks: 83340\taverage walk length: 9.9029\ttraining time: 8.3171\n",
      "valid auc: 0.9194\n",
      "node dim: 15,\tnum_walks: 10,\twalk_length: 15\tbuilding a DeepWalk model...\tnumber of walks: 83340\taverage walk length: 14.8359\ttraining time: 10.1480\n",
      "valid auc: 0.9264\n",
      "node dim: 15,\tnum_walks: 10,\twalk_length: 20\tbuilding a DeepWalk model...\tnumber of walks: 83340\taverage walk length: 19.7629\ttraining time: 12.1046\n",
      "valid auc: 0.9278\n",
      "node dim: 15,\tnum_walks: 10,\twalk_length: 25\tbuilding a DeepWalk model...\tnumber of walks: 83340\taverage walk length: 24.6865\ttraining time: 13.6639\n",
      "valid auc: 0.9273\n",
      "node dim: 15,\tnum_walks: 10,\twalk_length: 30\tbuilding a DeepWalk model...\tnumber of walks: 83340\taverage walk length: 29.6022\ttraining time: 15.5554\n",
      "valid auc: 0.9282\n",
      "node dim: 15,\tnum_walks: 15,\twalk_length: 5\tbuilding a DeepWalk model...\tnumber of walks: 125010\taverage walk length: 4.9653\ttraining time: 9.8934\n",
      "valid auc: 0.9055\n",
      "node dim: 15,\tnum_walks: 15,\twalk_length: 10\tbuilding a DeepWalk model...\tnumber of walks: 125010\taverage walk length: 9.9026\ttraining time: 12.4805\n",
      "valid auc: 0.9263\n",
      "node dim: 15,\tnum_walks: 15,\twalk_length: 15\tbuilding a DeepWalk model...\tnumber of walks: 125010\taverage walk length: 14.8360\ttraining time: 15.1254\n",
      "valid auc: 0.9292\n",
      "node dim: 15,\tnum_walks: 15,\twalk_length: 20\tbuilding a DeepWalk model...\tnumber of walks: 125010\taverage walk length: 19.7636\ttraining time: 17.8035\n",
      "valid auc: 0.9300\n",
      "node dim: 15,\tnum_walks: 15,\twalk_length: 25\tbuilding a DeepWalk model...\tnumber of walks: 125010\taverage walk length: 24.6873\ttraining time: 20.4729\n",
      "valid auc: 0.9285\n",
      "node dim: 15,\tnum_walks: 15,\twalk_length: 30\tbuilding a DeepWalk model...\tnumber of walks: 125010\taverage walk length: 29.6029\ttraining time: 23.3512\n",
      "valid auc: 0.9280\n",
      "node dim: 15,\tnum_walks: 20,\twalk_length: 5\tbuilding a DeepWalk model...\tnumber of walks: 166680\taverage walk length: 4.9654\ttraining time: 13.1062\n",
      "valid auc: 0.9127\n",
      "node dim: 15,\tnum_walks: 20,\twalk_length: 10\tbuilding a DeepWalk model...\tnumber of walks: 166680\taverage walk length: 9.9036\ttraining time: 16.5494\n",
      "valid auc: 0.9287\n",
      "node dim: 15,\tnum_walks: 20,\twalk_length: 15\tbuilding a DeepWalk model...\tnumber of walks: 166680\taverage walk length: 14.8371\ttraining time: 20.0763\n",
      "valid auc: 0.9300\n",
      "node dim: 15,\tnum_walks: 20,\twalk_length: 20\tbuilding a DeepWalk model...\tnumber of walks: 166680\taverage walk length: 19.7638\ttraining time: 23.5275\n",
      "valid auc: 0.9285\n",
      "node dim: 15,\tnum_walks: 20,\twalk_length: 25\tbuilding a DeepWalk model...\tnumber of walks: 166680\taverage walk length: 24.6873\ttraining time: 27.9927\n",
      "valid auc: 0.9278\n",
      "node dim: 15,\tnum_walks: 20,\twalk_length: 30\tbuilding a DeepWalk model...\tnumber of walks: 166680\taverage walk length: 29.6016\ttraining time: 31.0191\n",
      "valid auc: 0.9275\n",
      "node dim: 15,\tnum_walks: 25,\twalk_length: 5\tbuilding a DeepWalk model...\tnumber of walks: 208350\taverage walk length: 4.9654\ttraining time: 16.6512\n",
      "valid auc: 0.9178\n",
      "node dim: 15,\tnum_walks: 25,\twalk_length: 10\tbuilding a DeepWalk model...\tnumber of walks: 208350\taverage walk length: 9.9035\ttraining time: 20.6254\n",
      "valid auc: 0.9297\n",
      "node dim: 15,\tnum_walks: 25,\twalk_length: 15\tbuilding a DeepWalk model...\tnumber of walks: 208350\taverage walk length: 14.8359\ttraining time: 25.3632\n",
      "valid auc: 0.9303\n",
      "node dim: 15,\tnum_walks: 25,\twalk_length: 20\tbuilding a DeepWalk model...\tnumber of walks: 208350\taverage walk length: 19.7647\ttraining time: 29.7281\n",
      "valid auc: 0.9288\n",
      "node dim: 15,\tnum_walks: 25,\twalk_length: 25\tbuilding a DeepWalk model...\tnumber of walks: 208350\taverage walk length: 24.6867\ttraining time: 34.3813\n",
      "valid auc: 0.9273\n",
      "node dim: 15,\tnum_walks: 25,\twalk_length: 30\tbuilding a DeepWalk model...\tnumber of walks: 208350\taverage walk length: 29.6028\ttraining time: 38.7802\n",
      "valid auc: 0.9272\n",
      "node dim: 15,\tnum_walks: 30,\twalk_length: 5\tbuilding a DeepWalk model...\tnumber of walks: 250020\taverage walk length: 4.9654\ttraining time: 19.7266\n",
      "valid auc: 0.9221\n",
      "node dim: 15,\tnum_walks: 30,\twalk_length: 10\tbuilding a DeepWalk model...\tnumber of walks: 250020\taverage walk length: 9.9037\ttraining time: 24.6357\n",
      "valid auc: 0.9294\n",
      "node dim: 15,\tnum_walks: 30,\twalk_length: 15\tbuilding a DeepWalk model...\tnumber of walks: 250020\taverage walk length: 14.8357\ttraining time: 30.3444\n",
      "valid auc: 0.9292\n",
      "node dim: 15,\tnum_walks: 30,\twalk_length: 20\tbuilding a DeepWalk model...\tnumber of walks: 250020\taverage walk length: 19.7644\ttraining time: 35.7775\n",
      "valid auc: 0.9283\n",
      "node dim: 15,\tnum_walks: 30,\twalk_length: 25\tbuilding a DeepWalk model...\tnumber of walks: 250020\taverage walk length: 24.6855\ttraining time: 40.9961\n",
      "valid auc: 0.9271\n",
      "node dim: 15,\tnum_walks: 30,\twalk_length: 30\tbuilding a DeepWalk model...\tnumber of walks: 250020\taverage walk length: 29.6039\ttraining time: 46.5707\n",
      "valid auc: 0.9258\n"
     ]
    }
   ],
   "source": [
    "np.random.seed(0)\n",
    "\n",
    "node_dims = [5, 10, 15] # TODO\n",
    "num_walks = [5, 10, 15, 20, 25, 30] # TODO\n",
    "walk_lengths = [5, 10, 15, 20, 25, 30] # TODO\n",
    "deepwalk_auc_scores = dict()\n",
    "for node_dim in node_dims:\n",
    "    for num_walk in num_walks:\n",
    "        for walk_length in walk_lengths:\n",
    "            #deepwalk_auc_scores = dict()\n",
    "            print(\"node dim: %d,\\tnum_walks: %d,\\twalk_length: %d\" % (node_dim, num_walk, walk_length), end=\"\\t\")\n",
    "            model = build_deepwalk(graph, alias_nodes, \n",
    "                                     node_dim=node_dim, num_walks=num_walk, walk_length=walk_length)\n",
    "            deepwalk_auc_scores.update({(node_dim, num_walk, walk_length,'valid'):get_auc_score(model, valid_edges, false_edges)})\n",
    "            print(\"valid auc: %.4f\" % (deepwalk_auc_scores[(node_dim, num_walk, walk_length,'valid')]))"
   ]
  },
  {
   "cell_type": "code",
   "execution_count": 98,
   "metadata": {},
   "outputs": [
    {
     "data": {
      "text/plain": [
       "Text(0, 0.5, 'num_walks')"
      ]
     },
     "execution_count": 98,
     "metadata": {},
     "output_type": "execute_result"
    },
    {
     "data": {
      "image/png": "[encoded data removed]",
      "text/plain": [
       "<Figure size 600x400 with 2 Axes>"
      ]
     },
     "metadata": {},
     "output_type": "display_data"
    }
   ],
   "source": [
    "plt.figure(figsize=(6, 4))\n",
    "node_dim = 5\n",
    "# you should have an auc score dictionary here.\n",
    "a = np.array([[deepwalk_auc_scores[(node_dim, num_walk, walk_length, 'valid')] for walk_length in walk_lengths] for num_walk in num_walks])\n",
    "plt.imshow(a, cmap=\"hot\", interpolation=\"nearest\")\n",
    "plt.colorbar()\n",
    "plt.xticks(ticks=[0,1,2,3,4,5], labels=walk_lengths)\n",
    "plt.xlabel(\"walk_length\")\n",
    "plt.yticks(ticks=[0,1,2,3,4,5], labels=num_walks)\n",
    "plt.ylabel(\"num_walks\")"
   ]
  },
  {
   "cell_type": "code",
   "execution_count": 99,
   "metadata": {},
   "outputs": [
    {
     "data": {
      "text/plain": [
       "Text(0, 0.5, 'num_walks')"
      ]
     },
     "execution_count": 99,
     "metadata": {},
     "output_type": "execute_result"
    },
    {
     "data": {
      "image/png": "[encoded data removed]",
      "text/plain": [
       "<Figure size 600x400 with 2 Axes>"
      ]
     },
     "metadata": {},
     "output_type": "display_data"
    }
   ],
   "source": [
    "plt.figure(figsize=(6, 4))\n",
    "node_dim = 10\n",
    "# you should have an auc score dictionary here.\n",
    "a = np.array([[deepwalk_auc_scores[(node_dim, num_walk, walk_length, 'valid')] for walk_length in walk_lengths] for num_walk in num_walks])\n",
    "plt.imshow(a, cmap=\"hot\", interpolation=\"nearest\")\n",
    "plt.colorbar()\n",
    "plt.xticks(ticks=[0,1,2,3,4,5], labels=walk_lengths)\n",
    "plt.xlabel(\"walk_length\")\n",
    "plt.yticks(ticks=[0,1,2,3,4,5], labels=num_walks)\n",
    "plt.ylabel(\"num_walks\")"
   ]
  },
  {
   "cell_type": "code",
   "execution_count": 109,
   "metadata": {},
   "outputs": [
    {
     "data": {
      "text/plain": [
       "Text(0, 0.5, 'num_walks')"
      ]
     },
     "execution_count": 109,
     "metadata": {},
     "output_type": "execute_result"
    },
    {
     "data": {
      "image/png": "[encoded data removed]",
      "text/plain": [
       "<Figure size 600x400 with 2 Axes>"
      ]
     },
     "metadata": {},
     "output_type": "display_data"
    }
   ],
   "source": [
    "plt.figure(figsize=(6, 4))\n",
    "node_dim = 15\n",
    "# you should have an auc score dictionary here.\n",
    "a = np.array([[deepwalk_auc_scores[(node_dim, num_walk, walk_length, 'valid')] for walk_length in walk_lengths] for num_walk in num_walks])\n",
    "plt.imshow(a, cmap=\"hot\", interpolation=\"nearest\")\n",
    "plt.colorbar()\n",
    "plt.xticks(ticks=[0,1,2,3,4,5], labels=walk_lengths)\n",
    "plt.xlabel(\"walk_length\")\n",
    "plt.yticks(ticks=[0,1,2,3,4,5], labels=num_walks)\n",
    "plt.ylabel(\"num_walks\")"
   ]
  },
  {
   "cell_type": "code",
   "execution_count": 113,
   "metadata": {},
   "outputs": [
    {
     "data": {
      "image/png": "[encoded data removed]",
      "text/plain": [
       "<Figure size 640x480 with 1 Axes>"
      ]
     },
     "metadata": {},
     "output_type": "display_data"
    }
   ],
   "source": [
    "node_dim_5 = [deepwalk_auc_scores[(5, num_walk, 15, 'valid')] for num_walk in num_walks]\n",
    "node_dim_10 = [deepwalk_auc_scores[(10, num_walk, 15, 'valid')] for num_walk in num_walks]\n",
    "node_dim_15 = [deepwalk_auc_scores[(15, num_walk, 15, 'valid')] for num_walk in num_walks]\n",
    "\n",
    "plt.plot(walk_lengths, node_dim_5, label=\"node_dim = 5\")\n",
    "plt.plot(walk_lengths, node_dim_10, label=\"node_dim = 10\")\n",
    "plt.plot(walk_lengths, node_dim_15, label=\"node_dim = 15\")\n",
    "plt.legend()\n",
    "plt.show()"
   ]
  },
  {
   "cell_type": "code",
   "execution_count": 26,
   "metadata": {},
   "outputs": [
    {
     "name": "stdout",
     "output_type": "stream",
     "text": [
      "node dim: 10,\tnum_walks: 15,\twalk_length: 15\tbuilding a DeepWalk model...\tnumber of walks: 125010\taverage walk length: 14.8360\ttraining time: 14.3143\n",
      "valid auc: 0.9318\n",
      "node dim: 10,\tnum_walks: 15,\twalk_length: 15\tbuilding a DeepWalk model...\tnumber of walks: 125010\taverage walk length: 14.8360\ttraining time: 14.2696\n",
      "valid auc: 0.9326\n",
      "node dim: 10,\tnum_walks: 15,\twalk_length: 15\tbuilding a DeepWalk model...\tnumber of walks: 125010\taverage walk length: 14.8360\ttraining time: 14.4555\n",
      "valid auc: 0.9331\n",
      "node dim: 10,\tnum_walks: 15,\twalk_length: 15\tbuilding a DeepWalk model...\tnumber of walks: 125010\taverage walk length: 14.8360\ttraining time: 15.5794\n",
      "valid auc: 0.9323\n",
      "node dim: 10,\tnum_walks: 15,\twalk_length: 15\tbuilding a DeepWalk model...\tnumber of walks: 125010\taverage walk length: 14.8360\ttraining time: 15.1807\n",
      "valid auc: 0.9330\n",
      "node dim: 10,\tnum_walks: 15,\twalk_length: 15\tbuilding a DeepWalk model...\tnumber of walks: 125010\taverage walk length: 14.8360\ttraining time: 14.2608\n",
      "valid auc: 0.9322\n",
      "node dim: 10,\tnum_walks: 15,\twalk_length: 15\tbuilding a DeepWalk model...\tnumber of walks: 125010\taverage walk length: 14.8360\ttraining time: 14.2003\n",
      "valid auc: 0.9323\n",
      "node dim: 10,\tnum_walks: 15,\twalk_length: 15\tbuilding a DeepWalk model...\tnumber of walks: 125010\taverage walk length: 14.8360\ttraining time: 14.2588\n",
      "valid auc: 0.9331\n",
      "node dim: 10,\tnum_walks: 15,\twalk_length: 15\tbuilding a DeepWalk model...\tnumber of walks: 125010\taverage walk length: 14.8360\ttraining time: 14.3717\n",
      "valid auc: 0.9331\n",
      "node dim: 10,\tnum_walks: 15,\twalk_length: 15\tbuilding a DeepWalk model...\tnumber of walks: 125010\taverage walk length: 14.8360\ttraining time: 14.1940\n",
      "valid auc: 0.9320\n"
     ]
    }
   ],
   "source": [
    "np.random.seed(0)\n",
    "\n",
    "node_dim = 10 # TODO\n",
    "num_walk = 15 # TODO\n",
    "walk_length = 15 # TODO\n",
    "deepwalk_auc_scores_final = dict()\n",
    "for i in range(10):\n",
    "    print(\"node dim: %d,\\tnum_walks: %d,\\twalk_length: %d\" % (node_dim, num_walk, walk_length), end=\"\\t\")\n",
    "    model = build_deepwalk(graph, alias_nodes, \n",
    "                                node_dim=node_dim, num_walks=num_walk, walk_length=walk_length)\n",
    "    deepwalk_auc_scores_final[(node_dim, num_walk, walk_length, i)] = get_auc_score(model, valid_edges, false_edges)\n",
    "    print(\"valid auc: %.4f\" % (deepwalk_auc_scores_final[(node_dim, num_walk, walk_length, i)]))"
   ]
  },
  {
   "cell_type": "code",
   "execution_count": 27,
   "metadata": {},
   "outputs": [
    {
     "name": "stdout",
     "output_type": "stream",
     "text": [
      "mean: 0.9325467197362508\n",
      "high: 0.9331230756604963\n",
      "low: 0.9317701296029105\n"
     ]
    }
   ],
   "source": [
    "mean = 0\n",
    "for value in deepwalk_auc_scores_final.values():\n",
    "    mean += value\n",
    "mean = mean/len(deepwalk_auc_scores_final)\n",
    "print (\"mean:\", mean)\n",
    "high = max(deepwalk_auc_scores_final.values())\n",
    "print(\"high:\", high)\n",
    "low = min(deepwalk_auc_scores_final.values())\n",
    "print(\"low:\", low)"
   ]
  },
  {
   "cell_type": "markdown",
   "metadata": {},
   "source": [
    "You can build model with the best parameters you find and save the prediction here."
   ]
  },
  {
   "cell_type": "code",
   "execution_count": null,
   "metadata": {},
   "outputs": [],
   "source": [
    "model = build_deepwalk(graph, alias_nodes, node_dim=10, num_walks=15, walk_length=15)\n",
    "scores = [get_cosine_sim(model, src, dst) for src, dst in test_edges]\n",
    "write_pred(\"data/pred.csv\", test_edges, scores)"
   ]
  },
  {
   "cell_type": "markdown",
   "metadata": {},
   "source": [
    "With the help of p and q, the node2vec model can fit training data better. And you can have a try if you set p=q=1, the two models will return the same results."
   ]
  }
 ],
 "metadata": {
  "kernelspec": {
   "display_name": "Python 3 (ipykernel)",
   "language": "python",
   "name": "python3"
  },
  "language_info": {
   "codemirror_mode": {
    "name": "ipython",
    "version": 3
   },
   "file_extension": ".py",
   "mimetype": "text/x-python",
   "name": "python",
   "nbconvert_exporter": "python",
   "pygments_lexer": "ipython3",
   "version": "3.9.16"
  }
 },
 "nbformat": 4,
 "nbformat_minor": 4
}
